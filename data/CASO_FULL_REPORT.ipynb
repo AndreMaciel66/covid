{
 "cells": [
  {
   "cell_type": "markdown",
   "metadata": {},
   "source": [
    "# Covid Analytics\n",
    "\n",
    "## Objetivo\n",
    "\n",
    "Vamos analisar os dados do covid em Uberlandia e Brasil\n",
    "\n",
    "## Dataset\n",
    "\n",
    "casos_full.csv.gz"
   ]
  },
  {
   "cell_type": "code",
   "execution_count": 1,
   "metadata": {},
   "outputs": [],
   "source": [
    "import pandas as pd\n",
    "from datetime import date, datetime\n",
    "from dateutil.relativedelta import relativedelta"
   ]
  },
  {
   "cell_type": "code",
   "execution_count": 2,
   "metadata": {},
   "outputs": [],
   "source": [
    "df = pd.read_csv('caso_full.csv.gz')"
   ]
  },
  {
   "cell_type": "code",
   "execution_count": 3,
   "metadata": {},
   "outputs": [],
   "source": [
    "df.to_csv('caso_full.csv', index=False)"
   ]
  },
  {
   "cell_type": "code",
   "execution_count": 8,
   "metadata": {},
   "outputs": [],
   "source": [
    "# filter just city\n",
    "df_city = df[df['place_type']=='city'].copy()"
   ]
  },
  {
   "cell_type": "code",
   "execution_count": 10,
   "metadata": {},
   "outputs": [],
   "source": [
    "# Transform date column from object to date\n",
    "df_city['date'] = pd.to_datetime(df_city['date'], format='%Y-%m-%d')\n",
    "df_city.dtypes"
   ]
  },
  {
   "cell_type": "code",
   "execution_count": 55,
   "metadata": {},
   "outputs": [
    {
     "name": "stdout",
     "output_type": "stream",
     "text": [
      "2020-08-26\n",
      "2021-02-26\n"
     ]
    }
   ],
   "source": [
    "# set last X months\n",
    "x = 6\n",
    "\n",
    "# based at the maximun of the datefield (last update)\n",
    "end_date = df_city['date'].max()\n",
    "\n",
    "# start date is 6 months before\n",
    "start_date = end_date + relativedelta(months=-x)\n",
    "print(start_date.strftime(format='%Y-%m-%d'))\n",
    "print(end_date.strftime(format='%Y-%m-%d'))"
   ]
  },
  {
   "cell_type": "code",
   "execution_count": 54,
   "metadata": {},
   "outputs": [
    {
     "data": {
      "text/plain": [
       "-607224"
      ]
     },
     "execution_count": 54,
     "metadata": {},
     "output_type": "execute_result"
    }
   ],
   "source": [
    "# let's filter the city dataset to reduce the size\n",
    "\n",
    "## make date as index\n",
    "df_city_filtered = df_city.set_index(\"date\").copy()\n",
    "\n",
    "# filter using loc\n",
    "df_city_filtered = df_city_filtered.loc[start_date.strftime(format='%Y-%m-%d'):end_date.strftime(format='%Y-%m-%d')]\n",
    "\n",
    "# How many rows we reduced considering just the last 6 months\n",
    "len(df_city_filtered) - len(df)"
   ]
  },
  {
   "cell_type": "code",
   "execution_count": null,
   "metadata": {},
   "outputs": [],
   "source": []
  }
 ],
 "metadata": {
  "kernelspec": {
   "name": "python3",
   "display_name": "Python 3.9.1 64-bit",
   "metadata": {
    "interpreter": {
     "hash": "468f25ad0239460415b7e6b7483d5c8f7213894121f6fb96c4cb6ef93fffe534"
    }
   }
  },
  "language_info": {
   "codemirror_mode": {
    "name": "ipython",
    "version": 3
   },
   "file_extension": ".py",
   "mimetype": "text/x-python",
   "name": "python",
   "nbconvert_exporter": "python",
   "pygments_lexer": "ipython3",
   "version": "3.9.1-final"
  }
 },
 "nbformat": 4,
 "nbformat_minor": 2
}